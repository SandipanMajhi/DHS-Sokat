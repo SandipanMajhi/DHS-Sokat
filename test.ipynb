{
 "cells": [
  {
   "cell_type": "code",
   "execution_count": 1,
   "metadata": {},
   "outputs": [],
   "source": [
    "import pandas as pd\n",
    "import pickle as pkl\n",
    "from constants import *"
   ]
  },
  {
   "cell_type": "code",
   "execution_count": 2,
   "metadata": {},
   "outputs": [],
   "source": [
    "df = pd.read_excel(r\"./Data/output.xlsx\", engine='openpyxl')"
   ]
  },
  {
   "cell_type": "code",
   "execution_count": 17,
   "metadata": {},
   "outputs": [],
   "source": [
    "with open(\"./gpt35_frames/frames.pkl\", \"rb\") as fp:\n",
    "    gptframes = pkl.load(fp)"
   ]
  },
  {
   "cell_type": "code",
   "execution_count": 18,
   "metadata": {},
   "outputs": [],
   "source": [
    "def modify_columns(model_frames, risks):\n",
    "    risks = [f\"{risks[i]}_ranking\" for i in range(len(risks))]\n",
    "    justifications = [f\"{risks[i]}_Justifications\" for i in range(len(risks))]\n",
    "\n",
    "    for i in range(len(risks)):\n",
    "        model_frames[f\"df{i}\"] = model_frames[f\"df{i}\"].rename(columns = {\"ranks\" : risks[i], \"Justification\" : justifications[i]})\n",
    "\n",
    "\n",
    "    for i in range(len(risks)):\n",
    "        stripped_Names = [txt.strip() for txt in model_frames[f\"df{i}\"]['Use Case Name']]\n",
    "        model_frames[f\"df{i}\"]['Use Case Name'] = stripped_Names\n",
    "    \n",
    "    return model_frames, risks, justifications\n",
    "\n",
    "\n",
    "def join_all(model_frames, risks):\n",
    "    start_df = model_frames['df0']\n",
    "\n",
    "    i = 1\n",
    "    while i < len(risks):\n",
    "        start_df = start_df.merge(model_frames[f\"df{i}\"], on = ['Use Case ID', 'Use Case Name'])\n",
    "        i += 1\n",
    "\n",
    "    return start_df"
   ]
  },
  {
   "cell_type": "code",
   "execution_count": 19,
   "metadata": {},
   "outputs": [],
   "source": [
    "gptframes,_,_ = modify_columns(gptframes, risk_dimensions_classes)"
   ]
  },
  {
   "cell_type": "code",
   "execution_count": 14,
   "metadata": {},
   "outputs": [],
   "source": [
    "gptframes = join_all(gptframes, risk_dimensions)"
   ]
  },
  {
   "cell_type": "code",
   "execution_count": 15,
   "metadata": {},
   "outputs": [
    {
     "data": {
      "text/plain": [
       "36"
      ]
     },
     "execution_count": 15,
     "metadata": {},
     "output_type": "execute_result"
    }
   ],
   "source": [
    "len(gptframes['Use Case ID'].unique())"
   ]
  },
  {
   "cell_type": "code",
   "execution_count": 20,
   "metadata": {},
   "outputs": [
    {
     "data": {
      "text/plain": [
       "58"
      ]
     },
     "execution_count": 20,
     "metadata": {},
     "output_type": "execute_result"
    }
   ],
   "source": [
    "len(gptframes['df0']['Use Case ID'])"
   ]
  },
  {
   "cell_type": "code",
   "execution_count": 28,
   "metadata": {},
   "outputs": [
    {
     "data": {
      "text/plain": [
       "54"
      ]
     },
     "execution_count": 28,
     "metadata": {},
     "output_type": "execute_result"
    }
   ],
   "source": [
    "len(gptframes['df6']['Use Case ID'].unique())"
   ]
  },
  {
   "cell_type": "code",
   "execution_count": null,
   "metadata": {},
   "outputs": [],
   "source": []
  }
 ],
 "metadata": {
  "kernelspec": {
   "display_name": "DHS",
   "language": "python",
   "name": "python3"
  },
  "language_info": {
   "codemirror_mode": {
    "name": "ipython",
    "version": 3
   },
   "file_extension": ".py",
   "mimetype": "text/x-python",
   "name": "python",
   "nbconvert_exporter": "python",
   "pygments_lexer": "ipython3",
   "version": "3.12.2"
  }
 },
 "nbformat": 4,
 "nbformat_minor": 2
}

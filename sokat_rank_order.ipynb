{
 "cells": [
  {
   "cell_type": "code",
   "execution_count": 1,
   "metadata": {},
   "outputs": [],
   "source": [
    "import os\n",
    "from constants import *\n",
    "import pickle as pkl\n",
    "\n",
    "\n",
    "import pandas as pd\n",
    "import json\n",
    "from tqdm import tqdm\n",
    "import re\n",
    "\n",
    "from langchain_groq import ChatGroq\n",
    "from langchain_openai import ChatOpenAI\n",
    "from langchain.chains.summarize import load_summarize_chain\n",
    "from langchain.chains.llm import LLMChain\n",
    "from langchain.prompts import PromptTemplate\n",
    "from langchain.schema.document import Document\n",
    "\n",
    "\n",
    "\n",
    "os.environ[\"OPENAI_API_KEY\"] = openai_api_key"
   ]
  },
  {
   "cell_type": "code",
   "execution_count": 2,
   "metadata": {},
   "outputs": [],
   "source": [
    "model_name = paid_source_models[1]\n",
    "\n",
    "llm = ChatOpenAI(\n",
    "    model_name= model_name,\n",
    "    temperature=0.5\n",
    ")\n"
   ]
  },
  {
   "cell_type": "code",
   "execution_count": 3,
   "metadata": {},
   "outputs": [],
   "source": [
    "# model_name = open_source_models[1]\n",
    "\n",
    "# llm = ChatGroq(\n",
    "#             model_name = model_name,\n",
    "#             groq_api_key = groq_api_key,\n",
    "#             temperature=0.5,\n",
    "#             max_retries= 10,\n",
    "#             max_tokens=32768\n",
    "# )"
   ]
  },
  {
   "cell_type": "code",
   "execution_count": 4,
   "metadata": {},
   "outputs": [],
   "source": [
    "ranking_prompt = [PromptTemplate.from_template(ranking_prompt_with_tasks[i]) for i in range(len(ranking_prompt_with_tasks))]"
   ]
  },
  {
   "cell_type": "code",
   "execution_count": 5,
   "metadata": {},
   "outputs": [],
   "source": [
    "df = pd.read_excel(r'./Data/output.xlsx', engine='openpyxl')\n",
    "\n",
    "collect_docs_summaries = []\n",
    "for i in range(df.shape[0]):\n",
    "  collect_docs_summaries.append(f\"{df['Use Case ID'][i]}: {df['Use Case Name'][i]} -- {df[f'{paid_source_models[0]}_summaries'][i]}\\n\")\n",
    "\n",
    "collect_docs_summaries = \"\".join(collect_docs_summaries)\n"
   ]
  },
  {
   "cell_type": "code",
   "execution_count": 6,
   "metadata": {},
   "outputs": [
    {
     "name": "stderr",
     "output_type": "stream",
     "text": [
      "  0%|          | 0/7 [00:00<?, ?it/s]"
     ]
    },
    {
     "name": "stderr",
     "output_type": "stream",
     "text": [
      "100%|██████████| 7/7 [01:40<00:00, 14.43s/it]\n"
     ]
    }
   ],
   "source": [
    "all_results = []\n",
    "\n",
    "for i in tqdm(range(len(ranking_prompt))):\n",
    "  ranking_chain = ranking_prompt[i] | llm\n",
    "  ranking_result = ranking_chain.invoke({\"texts\" : collect_docs_summaries})\n",
    "  all_results.append(ranking_result.content)"
   ]
  },
  {
   "cell_type": "code",
   "execution_count": 13,
   "metadata": {},
   "outputs": [],
   "source": [
    "with open(\"test.txt\", \"w\") as f:\n",
    "    f.write(all_results[6])"
   ]
  },
  {
   "cell_type": "code",
   "execution_count": 23,
   "metadata": {},
   "outputs": [],
   "source": [
    "with open(f\"{model_name}_outputs1\", \"wb\") as fp:\n",
    "    pkl.dump(all_results, fp)"
   ]
  },
  {
   "cell_type": "code",
   "execution_count": null,
   "metadata": {},
   "outputs": [],
   "source": []
  }
 ],
 "metadata": {
  "kernelspec": {
   "display_name": "DHS",
   "language": "python",
   "name": "python3"
  },
  "language_info": {
   "codemirror_mode": {
    "name": "ipython",
    "version": 3
   },
   "file_extension": ".py",
   "mimetype": "text/x-python",
   "name": "python",
   "nbconvert_exporter": "python",
   "pygments_lexer": "ipython3",
   "version": "3.12.2"
  }
 },
 "nbformat": 4,
 "nbformat_minor": 2
}

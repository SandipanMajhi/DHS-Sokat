{
 "cells": [
  {
   "cell_type": "code",
   "execution_count": 1,
   "metadata": {},
   "outputs": [],
   "source": [
    "import os\n",
    "from constants import *\n",
    "import pickle as pkl\n",
    "\n",
    "\n",
    "import pandas as pd\n",
    "import json\n",
    "from tqdm import tqdm\n",
    "import re\n",
    "\n",
    "from langchain_groq import ChatGroq\n",
    "from langchain_openai import ChatOpenAI\n",
    "from langchain.chains.summarize import load_summarize_chain\n",
    "from langchain.chains.llm import LLMChain\n",
    "from langchain.prompts import PromptTemplate\n",
    "from langchain.schema.document import Document\n",
    "\n",
    "import time\n",
    "\n",
    "\n",
    "\n",
    "os.environ[\"OPENAI_API_KEY\"] = openai_api_key"
   ]
  },
  {
   "cell_type": "code",
   "execution_count": 2,
   "metadata": {},
   "outputs": [],
   "source": [
    "# def instantiate():\n",
    "#     model_name = paid_source_models[1]\n",
    "\n",
    "#     llm = ChatOpenAI(\n",
    "#         model_name= model_name,\n",
    "#         temperature=0.5, \n",
    "#     )\n",
    "\n",
    "#     return llm\n",
    "\n",
    "\n",
    "from openai import OpenAI\n",
    "client = OpenAI()\n",
    "\n",
    "# completion = client.chat.completions.create(\n",
    "#   model=\"gpt-3.5-turbo\",\n",
    "#   messages=[\n",
    "#     {\"role\": \"system\", \"content\": sys_msg},\n",
    "#     {\"role\": \"user\", \"content\": \"Compose a poem that explains the concept of recursion in programming.\"}\n",
    "#   ]\n",
    "# )\n",
    "\n",
    "# print(completion.choices[0].message)\n",
    "\n",
    "\n"
   ]
  },
  {
   "cell_type": "code",
   "execution_count": 3,
   "metadata": {},
   "outputs": [],
   "source": [
    "# model_name = open_source_models[1]\n",
    "\n",
    "# llm = ChatGroq(\n",
    "#             model_name = model_name,\n",
    "#             groq_api_key = groq_api_key,\n",
    "#             temperature=0.5,\n",
    "#             max_retries= 10,\n",
    "#             max_tokens=32768\n",
    "# )"
   ]
  },
  {
   "cell_type": "code",
   "execution_count": 3,
   "metadata": {},
   "outputs": [],
   "source": [
    "# ranking_prompt = [PromptTemplate.from_template(ranking_prompt_with_tasks[i]) for i in range(len(ranking_prompt_with_tasks))]"
   ]
  },
  {
   "cell_type": "code",
   "execution_count": 5,
   "metadata": {},
   "outputs": [],
   "source": [
    "df = pd.read_excel(r'./Data/output.xlsx', engine='openpyxl')\n",
    "\n",
    "collect_docs_summaries = []\n",
    "for i in range(df.shape[0]):\n",
    "  collect_docs_summaries.append(f\"{df['Use Case ID'][i]}: {df['Use Case Name'][i]} -- {df[f'{paid_source_models[0]}_summaries'][i]}\\n\")\n",
    "\n",
    "collect_docs_summaries = \"\".join(collect_docs_summaries)\n"
   ]
  },
  {
   "cell_type": "code",
   "execution_count": 7,
   "metadata": {},
   "outputs": [],
   "source": [
    "ranking_chain = ranking_prompt[1] | llm\n",
    "ranking_result = ranking_chain.invoke({\"texts\" : collect_docs_summaries})\n",
    "# all_results.append(ranking_result.content)"
   ]
  },
  {
   "cell_type": "code",
   "execution_count": 8,
   "metadata": {},
   "outputs": [
    {
     "data": {
      "text/plain": [
       "'1. DHS-23: Autonomous Aerostat\\n2. DHS-27: Geospatial imagery utilizing annotation\\n3. DHS-28: Use of technology to identify proof of life\\n4. DHS-29: Integrated Digital Environment\\n5. DHS-31: AI Curated Synthetic Data\\n6. DHS-32: Data and Entity Resolution\\n7. DHS-33: RelativityOne\\n8. DHS-35: Autonomous Surveillance Towers (Anduril)\\n9. DHS-37: Automated Item of Interest Detection - ICAD\\n10. DHS-38: Vessel Detection\\n11. DHS-P2: AI for Autonomous Situational Awareness\\n12. DHS-P3: Autonomous Maritime Awareness\\n13. DHS-103: Security Information and Event Management (SIEM) Alerting Models\\n14. DHS-104: Advanced Analytic Enabled Forensic Investigation\\n15. DHS-105: Advanced Network Anomaly Alerting\\n16. DHS-106: Critical Infrastructure Anomaly Alerting\\n17. DHS-107: Malware Reverse Engineering\\n18. DHS-4: Automated Indicator Sharing (AIS) Automated PII Detection\\n19. DHS-40: Cyber Threat Intelligence Feed Correlation\\n20. DHS-41: Cyber Incident Reporting\\n21. DHS-42: Cyber Vulnerability Reporting\\n22. DHS-43: AI Security and Robustness\\n23. DHS-44: Operational Activities Explorer\\n24. DHS-5: AIS Scoring and Feedback\\n25. DHS-346: Geospatial Damage Assessments\\n26. DHS-45: Text Analytics for Survey Responses (TASR)\\n27. DHS-48: Email Analytics\\n28. DHS-49: Mobile Device Analytics\\n29. DHS-53: Barcode Scanner\\n30. DHS-54: Facial Recognition Service\\n31. DHS-9: Machine Translation\\n32. DHS-P1: Normalization Services\\n33. DHS-345: Touchless PreCheck Identity Solution\\n34. DHS-13: Asylum Text Analytics\\n35. DHS-14: Biometrics Enrollment Tool (BET) Fingerprint Maximization\\n36. DHS-16: Evidence Classifier\\n37. DHS-17: FDNS-DS NexGen\\n38. DHS-20: Timeseries Analysis and Forecasting\\n39. DHS-55: Person-Centric Identity Services Deduplication Model\\n40. DHS-56: Person-Centric Identity Services A-Number Management Model\\n41. DHS-57: Identity Match Option (IMO) Process with DBIS Data Marts\\n42. DHS-58: Sentiment Analysis - Surveys\\n43. DHS-60: Predicted to Naturalize\\n44. DHS-61: I-485 Family Matching\\n45. DHS-63: Topic Modeling on Request For Evidence data sets\\n46. DHS-64: I-539 approval prediction\\n47. DHS-263: Silicon Valley Innovation Program (SVIP) Language Translator\\n48. DHS-250: FEMA OCFO GPT\\n49. DHS-206: Semantic Search and Summarization\\n50. DHS-254: Planning Assistant for Resilient Communities (PARC)\\n51. DHS-366: Large Language Models for an Officer Training Tool\\n\\nNote: The ranking is based on the complexity and potential cost of implementation for each use case. The most expensive use case is ranked higher, with DHS-23: Autonomous Aerostat being the most expensive with a score of 58.'"
      ]
     },
     "execution_count": 8,
     "metadata": {},
     "output_type": "execute_result"
    }
   ],
   "source": [
    "ranking_result.content"
   ]
  },
  {
   "cell_type": "code",
   "execution_count": 6,
   "metadata": {},
   "outputs": [
    {
     "name": "stderr",
     "output_type": "stream",
     "text": [
      "100%|██████████| 7/7 [01:47<00:00, 15.32s/it]\n"
     ]
    }
   ],
   "source": [
    "all_results = []\n",
    "\n",
    "for i in tqdm(range(len(ranking_prompt))):\n",
    "  ranking_chain = ranking_prompt[i] | llm\n",
    "  ranking_result = ranking_chain.invoke({\"texts\" : collect_docs_summaries})\n",
    "  all_results.append(ranking_result.content)\n",
    "  time.sleep(5)"
   ]
  },
  {
   "cell_type": "code",
   "execution_count": 9,
   "metadata": {},
   "outputs": [],
   "source": [
    "with open(\"test.txt\", \"w\") as f:\n",
    "    f.write(all_results[2])"
   ]
  },
  {
   "cell_type": "code",
   "execution_count": 23,
   "metadata": {},
   "outputs": [],
   "source": [
    "with open(f\"{model_name}_outputs1\", \"wb\") as fp:\n",
    "    pkl.dump(all_results, fp)"
   ]
  },
  {
   "cell_type": "code",
   "execution_count": null,
   "metadata": {},
   "outputs": [],
   "source": []
  }
 ],
 "metadata": {
  "kernelspec": {
   "display_name": "DHS",
   "language": "python",
   "name": "python3"
  },
  "language_info": {
   "codemirror_mode": {
    "name": "ipython",
    "version": 3
   },
   "file_extension": ".py",
   "mimetype": "text/x-python",
   "name": "python",
   "nbconvert_exporter": "python",
   "pygments_lexer": "ipython3",
   "version": "3.12.2"
  }
 },
 "nbformat": 4,
 "nbformat_minor": 2
}

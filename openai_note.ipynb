{
 "cells": [
  {
   "cell_type": "code",
   "execution_count": 1,
   "metadata": {},
   "outputs": [],
   "source": [
    "import os\n",
    "from constants import *\n",
    "import pickle as pkl\n",
    "\n",
    "\n",
    "import pandas as pd\n",
    "import json\n",
    "from tqdm import tqdm\n",
    "import re\n",
    "\n",
    "from openai import OpenAI\n",
    "\n",
    "from langchain_groq import ChatGroq\n",
    "from langchain_openai import ChatOpenAI\n",
    "from langchain.chains.summarize import load_summarize_chain\n",
    "from langchain.chains.llm import LLMChain\n",
    "from langchain.prompts import PromptTemplate\n",
    "from langchain.schema.document import Document\n",
    "\n",
    "import time\n",
    "\n",
    "\n",
    "\n",
    "os.environ[\"OPENAI_API_KEY\"] = openai_api_key"
   ]
  },
  {
   "cell_type": "code",
   "execution_count": 2,
   "metadata": {},
   "outputs": [],
   "source": [
    "client = OpenAI()"
   ]
  },
  {
   "cell_type": "code",
   "execution_count": 3,
   "metadata": {},
   "outputs": [],
   "source": [
    "tasks = user_msg"
   ]
  },
  {
   "cell_type": "code",
   "execution_count": 4,
   "metadata": {},
   "outputs": [],
   "source": [
    "df = pd.read_excel(r'./Data/output.xlsx', engine='openpyxl')\n",
    "\n",
    "id_base = list(df['Use Case ID'].unique())\n",
    "id_base.sort()\n",
    "\n",
    "collect_docs_summaries = []\n",
    "for i in range(df.shape[0]):\n",
    "#   collect_docs_summaries.append(f\"{df['Use Case ID'][i]}: {df['Use Case Name'][i]} -- {df[f'{paid_source_models[0]}_summaries'][i]}\\n\")\n",
    "    collect_docs_summaries.append(f\"{df['Use Case ID'][i]} : {df[f'{paid_source_models[0]}_summaries'][i]}\\n\")\n",
    "\n",
    "collect_docs_summaries = \"\".join(collect_docs_summaries)"
   ]
  },
  {
   "cell_type": "code",
   "execution_count": 5,
   "metadata": {},
   "outputs": [],
   "source": [
    "tasks = []\n",
    "for i in range(len(user_msg)):\n",
    "    tasks.append(user_msg[i] + \"\\nCases:\\n\" + collect_docs_summaries + \"\\nAnswer:\")"
   ]
  },
  {
   "cell_type": "code",
   "execution_count": 6,
   "metadata": {},
   "outputs": [
    {
     "data": {
      "text/plain": [
       "'\\nFor each one of the 58 use cases rank them from 1 to 58. Rank them from most effective by the public and Department of Homeland Security to least effective by the public and Department of Homeland Security. Ensure that each case is used and ranked to your best abilities. Do not exclude any cases.\\nHere is sample output: \\nDHS-728 : 23\\nDHS-98 : 46\\nCases:\\nDHS-368 : DHS employees are authorized to use generative AI, also known as AI Chatbots, for various tasks, including drafting documents, conducting research, and preparing briefing materials. These tools utilize NLP and LLM technologies to generate natural language responses based on user prompts.\\nDHS-369 : DHS employees can use commercial generative AI tools for daily tasks to create images via text prompts, employing technologies like NLP, GANs, and Diffusion Models for versatile graphical content generation.\\nDHS-373 : DHS employees can use commercial generative AI tools for daily code generation tasks. These tools utilize NLP and LLM technologies to transform plain-language prompts into functional code in various programming languages for different purposes.\\nDHS-33 : RelativityOne is a platform designed for efficient document review in litigation, FOIA, and other large-scale document review contexts.\\nDHS-138 : Video Computer Aided Detection (VCAD), also known as Matroid AI, is software that allows CBP users to create vision detectors to identify objects, people, and events in images or video streams. These detectors can operate in real-time or analyze recorded footage. VCAD offers various reporting tools and alert notifications for users to process detected events. Additionally, it provides a developer API for integrating VCAD\\'s computer vision capabilities into CBP applications.\\nDHS-23 : An aerostat system employing three tethers, advanced weather sensors, analytics, and strong winches utilizes AI/ML to autonomously decide when to launch and land according to weather conditions. It also uses AI and robotics for self-operating launch and recovery during bad weather, reducing the need for on-site personnel and saving time and resources.\\nDHS-24 : Third-party global trade data is utilized to enhance investigations into entities of interest by combining multi-language data on companies and goods, offering network analysis to evaluate trade flows and associated risks. This aids in validating existing information or improving understanding of cross-border networks under investigation. AI/ML models support the management and analysis of this information, contributing to a comprehensive software knowledge graph and user interface.\\nDHS-27 : The text describes a system that uses a commercial constellation of Synthetic Aperture Radar (SAR) satellites to capture images of any location on Earth, regardless of weather conditions or time of day. It employs artificial intelligence technologies, such as machine vision and object detection, to identify airframes, military vehicles, and marine vessels. Additionally, it has built-in features for detecting changes in areas, which is beneficial for disaster response efforts.\\nDHS-28 : The CBP One app integrates \"Liveness Detection\" technology, utilizing Artificial Intelligence and the user\\'s mobile device camera to authenticate users by verifying their live presence, aiming to prevent fraudulent activities. This feature ensures the person using the app is the actual individual they claim to be, by distinguishing them from photos, masks, or other false representations. The app serves as a unified platform for various CBP services, offering guided assistance for users in selecting appropriate services, forms, or applications.\\nDHS-29 : The Integrated Digital Environment enhances management understanding of workflows and application usage, leveraging AI/ML to analyze end user activity for improved efficiency and effectiveness in interface configuration, resource utilization, and application development for CBP. It offers tailored analytics, usage observation, and workflow suggestions, utilizing agency and open-source data systems for better insight generation. Additionally, it customizes automations for agency applications, fostering greater connectivity and security, and enabling administrators to optimize application use more effectively.\\nDHS-31 : AI Curated Synthetic Data generates synthetic data for computer vision, improving AI\\'s ability to ethically detect anomalies in complex settings. It specifically produces emulated X-ray sensor images and virtual 3D assets of vehicles and narcotics containers, aiming to boost the development of AI/ML-based anomaly detection algorithms for non-intrusive inspections, focusing on identifying narcotics and contraband in conveyances and cargo.\\nDHS-32 : The text describes a system that automates the process of data unification and entity resolution at a large scale and speed using Machine Learning. It ingests data from various sources to identify connections, unique entities, and commonalities among records. Additionally, it features a user-friendly tool that allows non-technical users to continually train the models, enhancing their accuracy and effectiveness.\\nDHS-343 : CBP employs AI to enhance real-time risk assessment of trade and travel data, using these insights for decision making. These AI tools are regularly assessed for their accuracy and form a crucial part of CBP\\'s comprehensive risk management strategy.\\nDHS-344 : The Traveler Verification Service (TVS) is a biometric system used by U.S. Customs and Border Protection (CBP) for recording arrivals and departures in the United States through Facial Comparison technology. It operates by creating and storing templates of travelers\\' photos derived from various sources, including previous entries, passports, visas, and other Department of Homeland Security (DHS) encounters. These templates are matched against live images captured at entry or exit points to verify traveler identity. The system aims to enhance security and streamline the process of verifying travelers\\' identities upon their entry to or departure from the U.S. For further details, refer to the DHS/CBP/PIA-056 Privacy Impact Assessment document for TVS.\\nDHS-35 : The system autonomously detects, identifies, and tracks items of interest using AI integrated with a tower, requiring no dedicated operator. It is easily deployable, relocatable by 2-3 people within a day, and operates independently of physical infrastructure. The system, powered by solar energy with a battery backup, offers a significant visibility range and features a hybrid command and control accessible from various devices through a government cloud-hosted URL. Its radar and camera work in tandem to autonomously monitor and track objects, alerting users who can monitor the system in near real-time from any device.\\nDHS-37 : The Matroid software, a Video Computer Aided Detection system utilized by CBP, analyzes photographs captured by field imaging equipment. These images, processed through the ICAD system, are reviewed by USBP agents to identify human subjects using proprietary software. Matroid employs trained computer vision models to detect objects, people, and events in real-time or within pre-recorded footage. The system aims to broaden its detection capabilities to include vehicles and individuals carrying long-arm rifles, while ignoring irrelevant objects like animals.\\nDHS-38 : Integrated technologies and analytics, enhanced with machine-assisted and AI capabilities, significantly improve maritime detection and the sensor network\\'s efficiency. This advancement facilitates the discernment of illicit vessels amidst legitimate maritime traffic by elevating situational awareness and threat responsiveness. Through setting specific search criteria, agents can utilize AI to automatically recognize and categorize objects detected by sensors into Items of Interest (IoI) and non-relevant objects. IoIs are then shared and tracked across multiple sensors, optimizing the detection system\\'s effectiveness.\\nDHS-P2 : The AI for autonomous situational awareness system aims to discreetly monitor and track illegal cross-border activities in remote areas using IoT sensor kits. It employs a motion image/video system enhanced with AI for vehicle detection and direction determination, and includes a motion sensor that activates a high-resolution camera for capturing images. These images are analyzed by AI models for object classification, vehicle direction, and re-identification purposes. The system is designed to be low-cost, low-power, and have a minimal footprint while offering covert detection and situational awareness.\\nDHS-P3 : The Autonomous Maritime Awareness system employs a combination of surveillance towers, ocean data solutions, unmanned autonomous surface vehicles (ASV), and artificial intelligence (AI) to autonomously detect, identify, and track objects of interest in maritime environments. The surveillance towers offer low-cost, adaptable, and movable monitoring options with radars and day/night cameras. The ASVs, designed for endurance in the open ocean, can operate for up to 12 months using wind, solar, and engine power, and are equipped with cameras and radar. Both the towers and ASVs utilize AI and machine learning to autonomously identify and track items of interest, sending alerts to monitoring agencies for further action.\\nDHS-103 : Threat hunters and SOC analysts handle terabytes of daily log data, using both manual and automated methods within Security Information and Event Management tools to detect cyber attacks. However, these methods are not exhaustive. Analysts employ automated tools, leveraging aggregated information and expertise, to refine alerts and generate new ones. These tools, based on mathematical and probabilistic models, enable CISA analysts to efficiently identify high fidelity anomalies through automated data analysis.\\nDHS-104 : CISA sends forensic experts to examine cyber incidents within various governmental and critical infrastructure entities, employing AI tools for efficient anomaly detection and threat analysis.\\nDHS-105 : Threat hunters and SOC analysts process terabytes of daily data from NCPS\\'s Einstein sensors, utilizing both manual and automated methods to identify network attacks. Despite the use of off-the-shelf tooling for detection, these methods aren\\'t exhaustive. Analysts employ advanced automated tools, leveraging mathematical and probabilistic models, to refine and produce high fidelity alerts. This approach enables CISA analysts to efficiently detect anomalies by sifting through massive datasets.\\nDHS-106 : The Cyber Sentry program, aimed at protecting critical infrastructure networks, employs threat hunting analysts who use advanced anomaly detection and machine learning to analyze multimodal cyber-physical data across IT and OT networks, including ICS/SCADA systems. It incorporates an AI-assisted Critical Infrastructure Anomaly Alerting model to process the data efficiently.\\nDHS-107 : Reverse engineering of malware, essential for CISA\\'s cyber defense, is evolving through Threat Focused Reverse Engineering (TFRE) which uses advanced engineering, formal methods, and deep learning to enhance cyber threat intelligence. The development of scalable, automated tools is crucial for disrupting adversaries\\' malware operations. TFRE aims to improve targeting of threats, support analysts, and provide sophisticated tools for users by disrupting adversaries\\' tactics, techniques, and procedures (TTPs), thereby forcing them to allocate more resources to their operations. TFRE encompasses a development pipeline that includes tool hardening, improved computational capabilities, and a better understanding of deployment environments.\\nDHS-4 : The Automated PII Detection and Human Review Process employs a combination of descriptive, predictive, and prescriptive analytics alongside natural language processing (NLP) for automatically identifying potential personal identifiable information (PII) in AIS submissions. Flagged submissions undergo human review, where analysts, aided by AI, verify and possibly redact PII. Privacy experts oversee and improve the process, ensuring compliance with privacy laws and enhancing the system based on feedback. This approach aims to streamline reviews by reducing false positives and maintaining system integrity through continuous audits, aligning with CISA\\'s privacy and civil liberties mandates.\\nDHS-40 : Cyber Threat Intelligence Feed Correlation employs AI to enhance the correlation of various information feeds, facilitating timely enrichment of shared data. AI-driven algorithms improve efficiency by learning from information items and outcomes, and can be customized for continuous monitoring of threat actor tactics, techniques, and procedures (TTPs).\\nDHS-41 : Cyber incident handling specialists use advanced automation tools, including Machine Learning and Natural Language Processing, to process and filter relevant data from threat intelligence and cyber incident channels. These techniques help in accurately aggregating information for human analysts and decision-makers, including data from CIRCIA-covered entities.\\nDHS-42 : Vulnerability analysts use advanced automation tools, including Machine Learning and Natural Language Processing, to process and aggregate data from various reporting channels. These tools enhance the accuracy and relevance of the information for analysts and decision-makers and facilitate the aggregation and presentation of data, including that from KEV and CVE databases.\\nDHS-43 : CISA and other federal entities implement frameworks, processes, and AI-focused testing tools to ensure the acquisition, development, deployment, and maintenance of AI technologies are secure, reliable, and trustworthy. These tools, leveraging Machine Learning and Natural Language Processing, enhance AI technology assessment by accelerating data processing.\\nDHS-44 : Duty officers and analysts at CISA\\'s Operations Center utilize an AI-powered dashboard to interpret current operational activities. This system combines real-time event data from various sources with historical information on cybersecurity and infrastructure security, as well as past operational responses, to suggest actions and strategies for collaboration with government entities and critical infrastructure stakeholders, focusing on protecting National Critical Functions.\\nDHS-5 : The AIS Automated Scoring & Feedback (AS&F) system uses descriptive analytics based on organizational intelligence to evaluate and classify indicators of compromise (IOCs) based on their reputation and confidence levels. It checks IOCs against known good lists, sightings, analyst verifications, and other reports within the organization\\'s intelligence to classify them. AIS participants can use this system to triage indicators by their confidence and opinion values, helping to prioritize which IOCs to investigate further based on the alignment or discrepancy between the publisher\\'s and other organizations\\' assessments.\\nDHS-346 : After Hurricane Ian, FEMA utilized a machine learning model called Geospatial Damage Assessments to quickly evaluate structural damage. This model, trained on images of past natural disasters, employs computer vision to distinguish between damaged and undamaged buildings in aerial photos. Human analysts then verified the model\\'s classifications of damage severity, with a feedback loop enhancing the model\\'s accuracy over time. The implementation of this tool significantly reduced the volume of structures requiring manual review from over a million to 77,000, drastically cutting down assessment time from weeks to days. This efficiency allowed for faster allocation of resources to those in urgent need.\\nDHS-45 : TASR is an application used by DHS OCHCO to perform NLP and text analytics on quarterly DHS Pulse Surveys, extracting significant topics from open-ended responses. The results help inform DHS Leadership on ways to enhance employee satisfaction and meet basic needs.\\nDHS-48 : The Email Analytics application allows users to analyze legally acquired email data, utilizing AI for spam classification and named entity recognition to extract names, organizations, and locations. It also features machine translation through a commercial product.\\nDHS-49 : Mobile Device Analytics (MDA) has been developed to assist investigators in analyzing large data volumes from court-sanctioned mobile device extractions, aiming to enhance the identification of relevant evidence, relationships, and criminal networks. It employs machine learning for object detection in multimedia. MDA is a project of the DHS HSI Innovation Lab and the Repository for Analytics in a Virtualized Environment (RAVEn), which supports the analysis of complex data to further ICE\\'s mission in enforcing U.S. laws.\\nDHS-53 : The Barcode Scanner developed for the RAVEn GO\\'s Encounter Card can scan and input information from MRZ and PDF417 barcodes found on travel documents and US Driver\\'s Licenses into text fields. This innovation is part of a project by the DHS HSI Innovation Lab / RAVEn, which supports ICE\\'s mission through the Repository for Analytics in a Virtualized Environment (RAVEn) by facilitating analytical projects and tools to analyze trends and criminal patterns. Further details can be found in the DHS/ICE/PIA-055 - Privacy Impact Assessment 055 for RAVEn.\\nDHS-54 : The Facial Recognition Service is employed by HSI agents and analysts for identifying individuals and extracting faces for investigations, including child exploitation, human rights atrocities, and war crimes, as part of the DHS HSI Innovation Lab / RAVEn project. The Repository for Analytics in a Virtualized Environment (RAVEn) supports ICE’s mission by enabling large analytical projects and tools for trend analysis and criminal pattern identification. Further details are available in the DHS/ICE/PIA-055 - Privacy Impact Assessment 055 for RAVEn.\\nDHS-9 : Systran offers machine translation for more than 100 language pairs, including notable languages like Chinese, Spanish, Arabic, and others to English. It can process various document types such as text, Word, and PDFs through both a web-based interface and an API endpoint.\\nDHS-P1 : The Homeland Security Investigations (HSI) utilizes Artificial Intelligence within its Repository for Analytics in a Virtualized Environment (RAVEn) project to enhance data accuracy by verifying, validating, correcting, and normalizing critical information such as addresses, phone numbers, names, and ID numbers. This initiative aims to streamline data correction, detect intentional misidentification, link personal information across datasets, and reduce the time and resources needed for investigations. RAVEn, a part of the DHS HSI Innovation Lab, supports the enforcement and investigation of U.S. laws by facilitating complex analytical projects, analyzing trends, and identifying criminal patterns.\\nDHS-345 : The TSA is utilizing Facial Comparison technology through the CBP Traveler Verification Service (TVS) to verify passenger identities at security checkpoints. This technology compares a live facial image of the passenger taken at the checkpoint with a database of photos previously provided by the passenger to the government. While this procedure is standard for travelers entering or exiting the U.S., TSA offers it as an optional, voluntary feature to expedite the PreCheck screening process at certain airports. Additionally, TSA and CBP allow airport and airline partners to use TVS for identity verification at baggage drops and boarding areas, enhancing the speed and security of the verification process. This system allows passengers to opt-out at any time, ensuring the process remains voluntary.\\nDHS-13 : USCIS is responsible for lawful immigration to the U.S. and administers the asylum program, as mandated by the Homeland Security Act of 2002. The Asylum Division within RAIO oversees the affirmative asylum program, offering protection to individuals in the U.S. who have suffered or fear future persecution in their country of origin, according to the Immigration and Nationality Act. Individuals not in removal proceedings can apply for asylum regardless of their arrival means or immigration status by submitting Form I-589. USCIS uses machine learning and data graphing to detect plagiarism and fraud in asylum applications by analyzing the narrative sections for common language patterns.\\nDHS-14 : The USCIS\\'s Customer Profile Management Service (CPMS) is a repository for biometric and biographic information from individuals who have received a USCIS card for immigration benefits. The Biometrics Encounter Tool (BET), in collaboration with the FBI, uses machine learning to predict when fingerprints might be rejected, aiming to improve submission success rates and reduce the need for additional appointments. Although the FBI does not share its fingerprint quality criteria, using a simple model could prevent 98% of rejections, potentially avoiding 42,763 extra appointments in 2020, with an 11% chance of needing fingerprint recapture. The BET team is working on integrating this model to enhance feedback on fingerprint submissions.\\nDHS-16 : The USCIS, under the DHS, manages lawful immigration to the U.S. and uses the USCIS ELIS system, which includes the Evidence Classifier microservice, to track and process immigration requests. Previously, adjudicators had to manually sift through numerous documents to find specific evidence, a time-consuming task. The introduction of a machine learning (ML) solution within USCIS ELIS has significantly improved this process by automatically tagging high-volume evidence types, saving approximately 13,348 hours of review time from September 28, 2021, to May 20, 2022. This enhancement has also nearly doubled the rate of cases adjudicated within 30 days from 30% to 58%.\\nDHS-17 : The USCIS established the Fraud Detection and National Security (FDNS) Directorate to enhance the integrity of the U.S. immigration system, ensuring that individuals who may threaten national security or public safety do not receive immigration benefits. This directorate also focuses on detecting and preventing immigration benefit fraud. In 2005, USCIS introduced the FDNS-DS, a case management system for tracking immigration applications with potential fraud or security concerns. This system was upgraded in June 2023 to FDNS-DS NexGen, which may incorporate AI and machine learning to improve investigative processes, prioritize cases more effectively, and identify fraudulent activities more efficiently. The future integration of AI/ML is expected to significantly expedite case processing and enhance the overall performance of the immigration system.\\nDHS-20 : USCIS, a component of DHS, manages lawful immigration to the U.S. by processing applications for Lawful Permanent Residents (LPRs), also known as green card holders. Due to a significant increase in green card applications, USCIS employed exploratory data analysis and machine learning to analyze and predict application workloads. Specifically, they used the Autoregressive Integrated Moving Average (ARIMA) model for forecasting the number of I-90 forms, a method that\\'s been in production for over a year and was later improved for better performance and reusability.\\nDHS-55 : The Person-Centric Identity Services (PCIS) aims to be the definitive source of reliable biographical and biometric data, offering immediate, reciprocal visibility into an individual\\'s extensive immigration history and status through de-duplication and integration of person-centric datasets from various sources. It utilizes machine learning for entity resolution/deduplication, enabling the identification of unique individuals across different records with high accuracy, thus consolidating a complete immigration profile efficiently. The deduplication model is essential for resolving identities and aggregating all related records, enhancing the system\\'s ability to handle inexact matches and variable data completeness.\\nDHS-56 : The Person-Centric Identity Services (PCIS) aims to be the leading source for trusted biographical and biometric information, offering real-time, reciprocal visibility into an individual\\'s extensive immigration history and status. The A-Number Management model, which is central to PCIS, processes person-centric data from various sources for training and evaluation, incorporating both biographical (e.g., name, date of birth, Alien #) and biometric (e.g., fingerprints, eye color) information. Utilizing machine learning, the model efficiently identifies records that closely match search criteria, enhancing the accuracy of search results for external partners and maintaining trust in PCIS\\'s entity resolution capabilities. This approach significantly improves the resolution of ambiguous matches and addresses varying data quality issues.\\nDHS-57 : The Identity Match Option (IMO) is a tool used by USCIS to create a unified identity for each applicant or beneficiary across its various systems, facilitating person-centric research and analytics. By employing standard entity matching algorithms, the IMO integrates disparate person-centric data attributes (such as SSN, Name, DOB) from multiple sources, overcoming data format and quality issues. This process allows for a holistic view of an individual\\'s immigration history, enhances fraud detection, and identifies data quality problems that need fixing.\\nDHS-58 : The Sentiment Analysis - Surveys system uses statistical analysis and Natural Language Processing (NLP) to evaluate survey results, assigning sentiments from strongly positive to strongly negative. This enables survey administrators to extract insights from both quantitative and qualitative data in employee satisfaction surveys. The system is available on demand.\\nDHS-60 : The Predicted to Naturalize model forecasts the eligibility of Legal Permanent Residents for naturalization and aims to update their current address. This tool could enable the sending of status updates and benefit notifications to USCIS customers.\\nDHS-61 : I-485 Family Matching aims to use AI to improve the matching of family members to their respective I-485 petitions, which can be challenging due to limited reliable matching fields like the A-number or common addresses. This system seeks to enhance the connection between petitioners and their families by accurately grouping I-485s filed by family members and associated forms, utilizing limited data more efficiently. The goal is to facilitate faster and more accurate processing of petitions by leveraging artificial intelligence to overcome the limitations of current matching methods.\\nDHS-63 : Topic Modeling is a technique for automatically organizing, understanding, and summarizing text data by identifying themes within a collection and classifying documents according to these themes.\\nDHS-64 : This project aims to develop a machine learning model to predict the approval times of I-539 applications through eProcessing, potentially enhancing the eProcessing approval process.\\nDHS-263 : The U.S. Coast Guard (USCG) requires the ability to communicate effectively with non-English speakers during rescue and investigative missions, emphasizing the need for accurate and quick translation to ensure the safety and security of both their teams and vessel occupants. The Department of Homeland Security’s Science and Technology Silicon Valley Innovation Program (SVIP) initiated a Language Translator solicitation to find new technologies that enable real-time communication with non-English speakers, including those who cannot communicate verbally. This technology must work both online and offline, accommodating the extreme and remote conditions often encountered by the Coast Guard.\\nDHS-250 : FEMA OCFO GPT is a generative AI tool developed to streamline the process of responding to the daily average of fifteen budget-related questions FEMA receives. By generating draft answers for FEMA employees to review and validate, this solution aims to enhance response quality and reduce the time and resources currently devoted to this task.\\nDHS-206 : The HSI Semantic Search and Summarization project aims to improve investigative processes through a LLM-based system that enhances summary efficiency and accuracy. This system will utilize open-source technologies to expedite the summarization and contextual search within investigative reports. It is expected to boost the detection of fentanyl networks, assist in identifying individuals involved in child exploitation, and reveal important patterns and trends to support HSI\\'s critical missions.\\nDHS-254 : The Generative AI solution \"PARC\" aims to streamline the hazard mitigation planning process for local governments, especially underserved communities, by aiding in the creation of comprehensive plans. It will help State, Local, Tribal, and Territorial (SLTT) governments understand risk identification and mitigation strategies, generating customizable draft plans from public sources. This initiative could enhance communities\\' capability to apply for grants, promoting resilience and reducing disaster risks.\\nDHS-366 : The Officer Training tool, leveraging GenAI, aims to revolutionize training for immigration officers by producing adaptive, personalized materials. This approach is designed to improve understanding, decision-making accuracy, and reduce retraining by keeping pace with current policies and laws.\\n\\nAnswer:'"
      ]
     },
     "execution_count": 6,
     "metadata": {},
     "output_type": "execute_result"
    }
   ],
   "source": [
    "tasks[3]"
   ]
  },
  {
   "cell_type": "code",
   "execution_count": 19,
   "metadata": {},
   "outputs": [],
   "source": [
    "def checker(text, id_base = id_base):\n",
    "    text = text.split(\"\\n\")\n",
    "\n",
    "    ranks_base = [str(i+1) for i in range(58)]\n",
    "\n",
    "    ids = [txt.split(\":\")[0].strip() for txt in text]\n",
    "    ranks = [txt.split(\":\")[1].strip() for txt in text]\n",
    "    ids = list(set(ids))\n",
    "    ids.sort()\n",
    "\n",
    "    ranks_base.sort()\n",
    "    ranks.sort()\n",
    "\n",
    "    print(ranks)\n",
    "    print(ranks_base)\n",
    "\n",
    "    print(ids)\n",
    "    print(id_base)\n",
    "\n",
    "    return id_base == ids and len(ids) == 58 and ranks == ranks_base\n",
    "\n",
    "def retry():\n",
    "  p = False\n",
    "\n",
    "  while p == False:\n",
    "    print(\"Prompting\\n\")\n",
    "    completion = client.chat.completions.create(\n",
    "      model=\"gpt-3.5-turbo\",\n",
    "      messages=[\n",
    "        {\"role\": \"system\", \"content\": sys_msg},\n",
    "        {\"role\": \"user\", \"content\": tasks[3]}\n",
    "      ]\n",
    "    )\n",
    "    p = checker(completion.choices[0].message.content)\n",
    "\n",
    "  return completion"
   ]
  },
  {
   "cell_type": "code",
   "execution_count": 20,
   "metadata": {},
   "outputs": [
    {
     "name": "stdout",
     "output_type": "stream",
     "text": [
      "Prompting\n",
      "\n",
      "['1', '10', '11', '12', '13', '14', '15', '16', '17', '18', '19', '2', '20', '21', '22', '23', '24', '25', '26', '27', '28', '29', '3', '30', '31', '32', '33', '34', '35', '36', '37', '38', '39', '4', '40', '41', '42', '43', '44', '45', '46', '47', '48', '49', '5', '50', '51', '52', '53', '54', '55', '56', '57', '58', '6', '7', '8', '9']\n",
      "['1', '10', '11', '12', '13', '14', '15', '16', '17', '18', '19', '2', '20', '21', '22', '23', '24', '25', '26', '27', '28', '29', '3', '30', '31', '32', '33', '34', '35', '36', '37', '38', '39', '4', '40', '41', '42', '43', '44', '45', '46', '47', '48', '49', '5', '50', '51', '52', '53', '54', '55', '56', '57', '58', '6', '7', '8', '9']\n",
      "['DHS-103', 'DHS-104', 'DHS-105', 'DHS-106', 'DHS-107', 'DHS-13', 'DHS-138', 'DHS-14', 'DHS-16', 'DHS-20', 'DHS-23', 'DHS-24', 'DHS-243', 'DHS-250', 'DHS-254', 'DHS-263', 'DHS-28', 'DHS-289', 'DHS-29', 'DHS-31', 'DHS-33', 'DHS-343', 'DHS-344', 'DHS-345', 'DHS-35', 'DHS-366', 'DHS-368', 'DHS-369', 'DHS-37', 'DHS-373', 'DHS-38', 'DHS-4', 'DHS-40', 'DHS-41', 'DHS-42', 'DHS-43', 'DHS-45', 'DHS-48', 'DHS-49', 'DHS-5', 'DHS-53', 'DHS-54', 'DHS-55', 'DHS-56', 'DHS-57', 'DHS-59', 'DHS-60', 'DHS-61', 'DHS-64', 'DHS-9', 'DHS-P1', 'DHS-P2', 'DHS-P3']\n",
      "['DHS-103', 'DHS-104', 'DHS-105', 'DHS-106', 'DHS-107', 'DHS-13', 'DHS-138', 'DHS-14', 'DHS-16', 'DHS-17', 'DHS-20', 'DHS-206', 'DHS-23', 'DHS-24', 'DHS-250', 'DHS-254', 'DHS-263', 'DHS-27', 'DHS-28', 'DHS-29', 'DHS-31', 'DHS-32', 'DHS-33', 'DHS-343', 'DHS-344', 'DHS-345', 'DHS-346', 'DHS-35', 'DHS-366', 'DHS-368', 'DHS-369', 'DHS-37', 'DHS-373', 'DHS-38', 'DHS-4', 'DHS-40', 'DHS-41', 'DHS-42', 'DHS-43', 'DHS-44', 'DHS-45', 'DHS-48', 'DHS-49', 'DHS-5', 'DHS-53', 'DHS-54', 'DHS-55', 'DHS-56', 'DHS-57', 'DHS-58', 'DHS-60', 'DHS-61', 'DHS-63', 'DHS-64', 'DHS-9', 'DHS-P1', 'DHS-P2', 'DHS-P3']\n",
      "Prompting\n",
      "\n",
      "['1', '10', '11', '12', '13', '14', '15', '16', '17', '18', '19', '2', '20', '21', '22', '23', '24', '25', '26', '27', '28', '29', '3', '30', '31', '32', '33', '34', '35', '36', '37', '38', '39', '4', '40', '41', '42', '43', '44', '45', '46', '47', '48', '49', '5', '50', '51', '52', '53', '54', '55', '56', '57', '58', '6', '7', '8', '9']\n",
      "['1', '10', '11', '12', '13', '14', '15', '16', '17', '18', '19', '2', '20', '21', '22', '23', '24', '25', '26', '27', '28', '29', '3', '30', '31', '32', '33', '34', '35', '36', '37', '38', '39', '4', '40', '41', '42', '43', '44', '45', '46', '47', '48', '49', '5', '50', '51', '52', '53', '54', '55', '56', '57', '58', '6', '7', '8', '9']\n",
      "['DHS-10', 'DHS-107', 'DHS-11', 'DHS-12', 'DHS-13', 'DHS-138', 'DHS-14', 'DHS-15', 'DHS-16', 'DHS-17', 'DHS-18', 'DHS-19', 'DHS-2', 'DHS-20', 'DHS-21', 'DHS-22', 'DHS-23', 'DHS-24', 'DHS-25', 'DHS-257', 'DHS-263', 'DHS-28', 'DHS-29', 'DHS-290', 'DHS-3', 'DHS-31', 'DHS-32', 'DHS-33', 'DHS-34', 'DHS-368', 'DHS-369', 'DHS-37', 'DHS-373', 'DHS-4', 'DHS-44', 'DHS-45', 'DHS-48', 'DHS-5', 'DHS-53', 'DHS-55', 'DHS-56', 'DHS-57', 'DHS-58', 'DHS-6', 'DHS-60', 'DHS-61', 'DHS-7', 'DHS-8', 'DHS-9']\n",
      "['DHS-103', 'DHS-104', 'DHS-105', 'DHS-106', 'DHS-107', 'DHS-13', 'DHS-138', 'DHS-14', 'DHS-16', 'DHS-17', 'DHS-20', 'DHS-206', 'DHS-23', 'DHS-24', 'DHS-250', 'DHS-254', 'DHS-263', 'DHS-27', 'DHS-28', 'DHS-29', 'DHS-31', 'DHS-32', 'DHS-33', 'DHS-343', 'DHS-344', 'DHS-345', 'DHS-346', 'DHS-35', 'DHS-366', 'DHS-368', 'DHS-369', 'DHS-37', 'DHS-373', 'DHS-38', 'DHS-4', 'DHS-40', 'DHS-41', 'DHS-42', 'DHS-43', 'DHS-44', 'DHS-45', 'DHS-48', 'DHS-49', 'DHS-5', 'DHS-53', 'DHS-54', 'DHS-55', 'DHS-56', 'DHS-57', 'DHS-58', 'DHS-60', 'DHS-61', 'DHS-63', 'DHS-64', 'DHS-9', 'DHS-P1', 'DHS-P2', 'DHS-P3']\n",
      "Prompting\n",
      "\n",
      "['1', '10', '11', '12', '13', '14', '15', '16', '17', '18', '19', '2', '20', '21', '22', '23', '24', '25', '26', '27', '28', '29', '3', '30', '31', '32', '33', '34', '35', '36', '37', '38', '39', '4', '40', '41', '42', '43', '44', '45', '46', '47', '48', '49', '5', '50', '51', '52', '53', '54', '55', '56', '57', '6', '7', '8', '9']\n",
      "['1', '10', '11', '12', '13', '14', '15', '16', '17', '18', '19', '2', '20', '21', '22', '23', '24', '25', '26', '27', '28', '29', '3', '30', '31', '32', '33', '34', '35', '36', '37', '38', '39', '4', '40', '41', '42', '43', '44', '45', '46', '47', '48', '49', '5', '50', '51', '52', '53', '54', '55', '56', '57', '58', '6', '7', '8', '9']\n",
      "['DHS-103', 'DHS-104', 'DHS-105', 'DHS-106', 'DHS-107', 'DHS-13', 'DHS-138', 'DHS-14', 'DHS-20', 'DHS-23', 'DHS-24', 'DHS-250', 'DHS-254', 'DHS-263', 'DHS-27', 'DHS-28', 'DHS-29', 'DHS-31', 'DHS-32', 'DHS-33', 'DHS-34', 'DHS-343', 'DHS-344', 'DHS-345', 'DHS-346', 'DHS-35', 'DHS-366', 'DHS-37', 'DHS-38', 'DHS-4', 'DHS-41', 'DHS-42', 'DHS-44', 'DHS-48', 'DHS-49', 'DHS-53', 'DHS-54', 'DHS-55', 'DHS-56', 'DHS-57', 'DHS-58', 'DHS-59', 'DHS-63', 'DHS-64', 'DHS-68', 'DHS-9', 'DHS-P1', 'DHS-P2', 'DHS-P3']\n",
      "['DHS-103', 'DHS-104', 'DHS-105', 'DHS-106', 'DHS-107', 'DHS-13', 'DHS-138', 'DHS-14', 'DHS-16', 'DHS-17', 'DHS-20', 'DHS-206', 'DHS-23', 'DHS-24', 'DHS-250', 'DHS-254', 'DHS-263', 'DHS-27', 'DHS-28', 'DHS-29', 'DHS-31', 'DHS-32', 'DHS-33', 'DHS-343', 'DHS-344', 'DHS-345', 'DHS-346', 'DHS-35', 'DHS-366', 'DHS-368', 'DHS-369', 'DHS-37', 'DHS-373', 'DHS-38', 'DHS-4', 'DHS-40', 'DHS-41', 'DHS-42', 'DHS-43', 'DHS-44', 'DHS-45', 'DHS-48', 'DHS-49', 'DHS-5', 'DHS-53', 'DHS-54', 'DHS-55', 'DHS-56', 'DHS-57', 'DHS-58', 'DHS-60', 'DHS-61', 'DHS-63', 'DHS-64', 'DHS-9', 'DHS-P1', 'DHS-P2', 'DHS-P3']\n",
      "Prompting\n",
      "\n",
      "['1', '10', '11', '12', '13', '14', '15', '16', '17', '18', '19', '2', '20', '21', '22', '23', '24', '25', '26', '27', '28', '29', '3', '30', '31', '32', '33', '34', '35', '36', '37', '38', '39', '4', '40', '41', '42', '43', '44', '45', '46', '47', '48', '49', '5', '50', '51', '52', '53', '54', '55', '56', '57', '58', '6', '7', '8', '9']\n",
      "['1', '10', '11', '12', '13', '14', '15', '16', '17', '18', '19', '2', '20', '21', '22', '23', '24', '25', '26', '27', '28', '29', '3', '30', '31', '32', '33', '34', '35', '36', '37', '38', '39', '4', '40', '41', '42', '43', '44', '45', '46', '47', '48', '49', '5', '50', '51', '52', '53', '54', '55', '56', '57', '58', '6', '7', '8', '9']\n",
      "['DHS-104', 'DHS-105', 'DHS-12', 'DHS-138', 'DHS-14', 'DHS-16', 'DHS-17', 'DHS-20', 'DHS-250', 'DHS-27', 'DHS-28', 'DHS-29', 'DHS-31', 'DHS-313', 'DHS-328', 'DHS-330', 'DHS-332', 'DHS-335', 'DHS-336', 'DHS-337', 'DHS-338', 'DHS-34', 'DHS-340', 'DHS-341', 'DHS-342', 'DHS-343', 'DHS-344', 'DHS-345', 'DHS-346', 'DHS-348', 'DHS-36', 'DHS-366', 'DHS-37', 'DHS-38', 'DHS-4', 'DHS-41', 'DHS-42', 'DHS-43', 'DHS-45', 'DHS-46', 'DHS-48', 'DHS-53', 'DHS-54', 'DHS-56', 'DHS-57', 'DHS-61', 'DHS-64', 'DHS-8', 'DHS-9', 'DHS-P2']\n",
      "['DHS-103', 'DHS-104', 'DHS-105', 'DHS-106', 'DHS-107', 'DHS-13', 'DHS-138', 'DHS-14', 'DHS-16', 'DHS-17', 'DHS-20', 'DHS-206', 'DHS-23', 'DHS-24', 'DHS-250', 'DHS-254', 'DHS-263', 'DHS-27', 'DHS-28', 'DHS-29', 'DHS-31', 'DHS-32', 'DHS-33', 'DHS-343', 'DHS-344', 'DHS-345', 'DHS-346', 'DHS-35', 'DHS-366', 'DHS-368', 'DHS-369', 'DHS-37', 'DHS-373', 'DHS-38', 'DHS-4', 'DHS-40', 'DHS-41', 'DHS-42', 'DHS-43', 'DHS-44', 'DHS-45', 'DHS-48', 'DHS-49', 'DHS-5', 'DHS-53', 'DHS-54', 'DHS-55', 'DHS-56', 'DHS-57', 'DHS-58', 'DHS-60', 'DHS-61', 'DHS-63', 'DHS-64', 'DHS-9', 'DHS-P1', 'DHS-P2', 'DHS-P3']\n",
      "Prompting\n",
      "\n",
      "['1', '10', '11', '12', '13', '14', '15', '16', '17', '18', '19', '2', '20', '21', '22', '23', '24', '25', '26', '27', '28', '29', '3', '30', '31', '32', '33', '34', '35', '36', '37', '38', '39', '4', '40', '41', '42', '43', '44', '45', '46', '47', '48', '49', '5', '50', '51', '52', '53', '54', '55', '56', '57', '58', '6', '7', '8', '9']\n",
      "['1', '10', '11', '12', '13', '14', '15', '16', '17', '18', '19', '2', '20', '21', '22', '23', '24', '25', '26', '27', '28', '29', '3', '30', '31', '32', '33', '34', '35', '36', '37', '38', '39', '4', '40', '41', '42', '43', '44', '45', '46', '47', '48', '49', '5', '50', '51', '52', '53', '54', '55', '56', '57', '58', '6', '7', '8', '9']\n",
      "['DHS-103', 'DHS-104', 'DHS-105', 'DHS-106', 'DHS-107', 'DHS-13', 'DHS-138', 'DHS-16', 'DHS-206', 'DHS-24', 'DHS-250', 'DHS-263', 'DHS-27', 'DHS-28', 'DHS-29', 'DHS-31', 'DHS-32', 'DHS-33', 'DHS-343', 'DHS-345', 'DHS-35', 'DHS-36', 'DHS-366', 'DHS-37', 'DHS-40', 'DHS-41', 'DHS-42', 'DHS-43', 'DHS-44', 'DHS-45', 'DHS-48', 'DHS-49', 'DHS-5', 'DHS-54', 'DHS-56', 'DHS-57', 'DHS-58', 'DHS-61', 'DHS-9', 'DHS-P1', 'DHS-P2', 'DHS-P3']\n",
      "['DHS-103', 'DHS-104', 'DHS-105', 'DHS-106', 'DHS-107', 'DHS-13', 'DHS-138', 'DHS-14', 'DHS-16', 'DHS-17', 'DHS-20', 'DHS-206', 'DHS-23', 'DHS-24', 'DHS-250', 'DHS-254', 'DHS-263', 'DHS-27', 'DHS-28', 'DHS-29', 'DHS-31', 'DHS-32', 'DHS-33', 'DHS-343', 'DHS-344', 'DHS-345', 'DHS-346', 'DHS-35', 'DHS-366', 'DHS-368', 'DHS-369', 'DHS-37', 'DHS-373', 'DHS-38', 'DHS-4', 'DHS-40', 'DHS-41', 'DHS-42', 'DHS-43', 'DHS-44', 'DHS-45', 'DHS-48', 'DHS-49', 'DHS-5', 'DHS-53', 'DHS-54', 'DHS-55', 'DHS-56', 'DHS-57', 'DHS-58', 'DHS-60', 'DHS-61', 'DHS-63', 'DHS-64', 'DHS-9', 'DHS-P1', 'DHS-P2', 'DHS-P3']\n",
      "Prompting\n",
      "\n",
      "['1', '10', '11', '12', '13', '14', '15', '16', '17', '18', '19', '2', '20', '21', '22', '23', '24', '25', '26', '27', '28', '29', '3', '30', '31', '32', '33', '34', '35', '36', '37', '38', '39', '4', '40', '41', '42', '43', '44', '45', '46', '47', '48', '49', '5', '50', '51', '52', '53', '54', '55', '56', '57', '58', '6', '7', '8', '9']\n",
      "['1', '10', '11', '12', '13', '14', '15', '16', '17', '18', '19', '2', '20', '21', '22', '23', '24', '25', '26', '27', '28', '29', '3', '30', '31', '32', '33', '34', '35', '36', '37', '38', '39', '4', '40', '41', '42', '43', '44', '45', '46', '47', '48', '49', '5', '50', '51', '52', '53', '54', '55', '56', '57', '58', '6', '7', '8', '9']\n",
      "['DHS-103', 'DHS-104', 'DHS-105', 'DHS-106', 'DHS-107', 'DHS-13', 'DHS-138', 'DHS-14', 'DHS-16', 'DHS-17', 'DHS-20', 'DHS-206', 'DHS-23', 'DHS-24', 'DHS-250', 'DHS-254', 'DHS-263', 'DHS-27', 'DHS-28', 'DHS-29', 'DHS-31', 'DHS-32', 'DHS-33', 'DHS-343', 'DHS-344', 'DHS-345', 'DHS-346', 'DHS-35', 'DHS-366', 'DHS-368', 'DHS-369', 'DHS-37', 'DHS-373', 'DHS-38', 'DHS-4', 'DHS-40', 'DHS-41', 'DHS-42', 'DHS-43', 'DHS-44', 'DHS-45', 'DHS-48', 'DHS-49', 'DHS-5', 'DHS-53', 'DHS-54', 'DHS-55', 'DHS-56', 'DHS-57', 'DHS-58', 'DHS-60', 'DHS-61', 'DHS-63', 'DHS-64', 'DHS-9', 'DHS-P1', 'DHS-P2', 'DHS-P3']\n",
      "['DHS-103', 'DHS-104', 'DHS-105', 'DHS-106', 'DHS-107', 'DHS-13', 'DHS-138', 'DHS-14', 'DHS-16', 'DHS-17', 'DHS-20', 'DHS-206', 'DHS-23', 'DHS-24', 'DHS-250', 'DHS-254', 'DHS-263', 'DHS-27', 'DHS-28', 'DHS-29', 'DHS-31', 'DHS-32', 'DHS-33', 'DHS-343', 'DHS-344', 'DHS-345', 'DHS-346', 'DHS-35', 'DHS-366', 'DHS-368', 'DHS-369', 'DHS-37', 'DHS-373', 'DHS-38', 'DHS-4', 'DHS-40', 'DHS-41', 'DHS-42', 'DHS-43', 'DHS-44', 'DHS-45', 'DHS-48', 'DHS-49', 'DHS-5', 'DHS-53', 'DHS-54', 'DHS-55', 'DHS-56', 'DHS-57', 'DHS-58', 'DHS-60', 'DHS-61', 'DHS-63', 'DHS-64', 'DHS-9', 'DHS-P1', 'DHS-P2', 'DHS-P3']\n"
     ]
    }
   ],
   "source": [
    "with open(\"test.txt\", \"w\") as fp:\n",
    "    fp.write(retry().choices[0].message.content)"
   ]
  },
  {
   "cell_type": "code",
   "execution_count": 50,
   "metadata": {},
   "outputs": [],
   "source": [
    "with open(\"test.txt\", \"w\") as fp:\n",
    "    fp.write(tasks[3])"
   ]
  },
  {
   "cell_type": "code",
   "execution_count": null,
   "metadata": {},
   "outputs": [],
   "source": [
    "filenames = [\"bias_pass1.txt\", \"complexity_pass1.txt\", \"\"]"
   ]
  }
 ],
 "metadata": {
  "kernelspec": {
   "display_name": "DHS",
   "language": "python",
   "name": "python3"
  },
  "language_info": {
   "codemirror_mode": {
    "name": "ipython",
    "version": 3
   },
   "file_extension": ".py",
   "mimetype": "text/x-python",
   "name": "python",
   "nbconvert_exporter": "python",
   "pygments_lexer": "ipython3",
   "version": "3.12.2"
  }
 },
 "nbformat": 4,
 "nbformat_minor": 2
}

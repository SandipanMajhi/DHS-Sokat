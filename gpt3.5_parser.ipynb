{
 "cells": [
  {
   "cell_type": "code",
   "execution_count": 27,
   "metadata": {},
   "outputs": [],
   "source": [
    "import pickle as pkl\n",
    "from constants import *\n",
    "import re\n",
    "import os\n",
    "\n",
    "import pandas as pd"
   ]
  },
  {
   "cell_type": "code",
   "execution_count": 28,
   "metadata": {},
   "outputs": [],
   "source": [
    "with open('./Outputs/gpt-3.5-turbo_outputs', 'rb') as f:\n",
    "    data = pkl.load(f)"
   ]
  },
  {
   "cell_type": "code",
   "execution_count": 43,
   "metadata": {},
   "outputs": [],
   "source": [
    "with open('test.txt', \"w\") as fp:\n",
    "    fp.write(data[5])"
   ]
  },
  {
   "cell_type": "code",
   "execution_count": 30,
   "metadata": {},
   "outputs": [],
   "source": [
    "### for 0 th data ###\n",
    "t0 = data[0]\n",
    "t0 = t0.split(\"\\n\")\n",
    "t0 = [txt.split(\":\") for txt in t0 if len(txt)>0 ]\n",
    "\n",
    "d0 = {'Use Case ID' : [], 'Use Case Name' : [], 'Justification' : []}\n",
    "\n",
    "for i in range(len(t0)):\n",
    "    if i%2 == 0:\n",
    "        cID = t0[i][0]\n",
    "        cID = re.sub(r\"([0-9]+). \", \"\", cID)\n",
    "        d0['Use Case ID'].append(cID)\n",
    "\n",
    "        cName = t0[i][1]\n",
    "        d0['Use Case Name'].append(cName)\n",
    "\n",
    "    else:\n",
    "        cJust = t0[i][1]\n",
    "        d0['Justification'].append(cJust)"
   ]
  },
  {
   "cell_type": "code",
   "execution_count": 31,
   "metadata": {},
   "outputs": [],
   "source": [
    "### Test Cell ###\n",
    "# t1 = data[1]\n",
    "# t1 = t1.split(\"\\n\")\n",
    "\n",
    "# t1s = []\n",
    "# for i in range(len(t1)):\n",
    "#     if len(t1[i].split(\" - \")) > 2:\n",
    "#         phrase = t1[i].split(\" - \")[0] + \" - \" + t1[i].split(\" - \")[1]\n",
    "\n",
    "#         t1s.append([phrase, t1[i].split(\" - \")[2]])\n",
    "#     else:\n",
    "#         t1s.append(t1[i].split(\" - \"))\n",
    "\n"
   ]
  },
  {
   "cell_type": "code",
   "execution_count": 40,
   "metadata": {},
   "outputs": [
    {
     "data": {
      "text/plain": [
       "58"
      ]
     },
     "execution_count": 40,
     "metadata": {},
     "output_type": "execute_result"
    }
   ],
   "source": [
    "### For 1st data ###\n",
    "d1 = {'Use Case ID' : [], 'Use Case Name' : [], 'Justification' : []}\n",
    "\n",
    "t1 = data[1]\n",
    "t1 = t1.split(\"\\n\")\n",
    "\n",
    "t1s = []\n",
    "for i in range(len(t1)):\n",
    "    if len(t1[i].split(\" - \")) > 2:\n",
    "        phrase = t1[i].split(\" - \")[0] + \" - \" + t1[i].split(\" - \")[1]\n",
    "\n",
    "        t1s.append([phrase, t1[i].split(\" - \")[2]])\n",
    "    else:\n",
    "        t1s.append(t1[i].split(\" - \"))\n",
    "\n",
    "\n",
    "for i in range(len(t1s)):\n",
    "    cID = t1s[i][0]\n",
    "    d1['Justification'].append(t1s[i][1].strip())\n",
    "    cName = cID.split(\":\")[1].strip()\n",
    "    cID = re.sub(r\"([0-9]+). \",\"\",cID.split(\":\")[0])\n",
    "    d1['Use Case ID'].append(cID)\n",
    "    d1['Use Case Name'].append(cName)\n",
    "\n",
    "# t1 = data[1]\n",
    "# t1 = t1.split(\"\\n\")\n",
    "# t1 = [txt.split(\" - \") for txt in t1]\n",
    "\n",
    "\n",
    "\n",
    "# for i in range(len(t1)):\n",
    "#     cID = t1[i][0]\n",
    "#     d1['Justification'].append(t1[i][1].strip())\n",
    "#     cName = cID.split(\":\")[1].strip()\n",
    "#     cID = re.sub(r\"([0-9]+). \",\"\",cID.split(\":\")[0])\n",
    "#     d1['Use Case ID'].append(cID)\n",
    "#     d1['Use Case Name'].append(cName)\n",
    "    \n",
    "len(d1[\"Use Case Name\"])"
   ]
  },
  {
   "cell_type": "code",
   "execution_count": 33,
   "metadata": {},
   "outputs": [],
   "source": [
    "### For 2nd data ###\n",
    "d2 = {'Use Case ID' : [], 'Use Case Name' : [], 'Justification' : []}\n",
    "t2 = data[2]\n",
    "t2 = t2.split(\"\\n\")\n",
    "t2 = [txt.split(\":\") for txt in t2 if len(txt)>0 ]\n",
    "\n",
    "d2 = {'Use Case ID' : [], 'Use Case Name' : [], 'Justification' : []}\n",
    "\n",
    "for i in range(len(t2)):\n",
    "    if i%2 == 0:\n",
    "        cID = t2[i][0]\n",
    "        cID = re.sub(r\"([0-9]+). \", \"\", cID)\n",
    "        d2['Use Case ID'].append(cID)\n",
    "\n",
    "        cName = t2[i][1]\n",
    "        d2['Use Case Name'].append(cName)\n",
    "\n",
    "    else:\n",
    "        cJust = t2[i][1]\n",
    "        d2['Justification'].append(cJust)"
   ]
  },
  {
   "cell_type": "code",
   "execution_count": 34,
   "metadata": {},
   "outputs": [],
   "source": [
    "### For 3rd Data ###\n",
    "d3 = {'Use Case ID' : [], 'Use Case Name' : [], 'Justification' : []}\n",
    "t3 = data[3]\n",
    "t3 = t3.split(\"\\n\")\n",
    "t3 = [txt.split(\":\") for txt in t3 if len(txt)>0 ]\n",
    "\n",
    "d3 = {'Use Case ID' : [], 'Use Case Name' : [], 'Justification' : []}\n",
    "\n",
    "for i in range(len(t3)):\n",
    "    if i%2 == 0:\n",
    "        cID = t3[i][0]\n",
    "        cID = re.sub(r\"([0-9]+). \", \"\", cID)\n",
    "        d3['Use Case ID'].append(cID)\n",
    "\n",
    "        cName = t3[i][1]\n",
    "        d3['Use Case Name'].append(cName)\n",
    "\n",
    "    else:\n",
    "        cJust = t3[i][1]\n",
    "        d3['Justification'].append(cJust)"
   ]
  },
  {
   "cell_type": "code",
   "execution_count": 35,
   "metadata": {},
   "outputs": [],
   "source": [
    "### For 4th Data ###\n",
    "d4 = {'Use Case ID' : [], 'Use Case Name' : [], 'Justification' : []}\n",
    "t4 = data[4]\n",
    "t4 = t4.split(\"\\n\")\n",
    "t4 = [txt.split(\":\") for txt in t4 if len(txt)>0 ]\n",
    "\n",
    "d4 = {'Use Case ID' : [], 'Use Case Name' : [], 'Justification' : []}\n",
    "\n",
    "for i in range(len(t4)):\n",
    "    if i%2 == 0:\n",
    "        cID = t4[i][0]\n",
    "        cID = re.sub(r\"([0-9]+). \", \"\", cID)\n",
    "        d4['Use Case ID'].append(cID)\n",
    "\n",
    "        cName = t4[i][1]\n",
    "        d4['Use Case Name'].append(cName)\n",
    "\n",
    "    else:\n",
    "        cJust = t4[i][1]\n",
    "        d4['Justification'].append(cJust)"
   ]
  },
  {
   "cell_type": "code",
   "execution_count": 36,
   "metadata": {},
   "outputs": [],
   "source": [
    "### For 5th Data ###\n",
    "d5 = {'Use Case ID' : [], 'Use Case Name' : [], 'Justification' : []}\n",
    "t5 = data[5]\n",
    "t5 = t5.split(\"\\n\")\n",
    "t5 = [txt for txt in t5 if len(txt)>0]\n",
    "\n",
    "for i in range(len(t5)):\n",
    "    if i%2 == 0:\n",
    "        cID = t5[i].split(\":\")[0]\n",
    "        cName = t5[i].split(\":\")[1].strip()\n",
    "        cID = re.sub(r\"([0-9]+). \", \"\", cID)\n",
    "        d5['Use Case ID'].append(cID)\n",
    "\n",
    "        d5['Use Case Name'].append(cName)\n",
    "\n",
    "    else:\n",
    "        cJust = t5[i]\n",
    "        d5['Justification'].append(cJust)"
   ]
  },
  {
   "cell_type": "code",
   "execution_count": 37,
   "metadata": {},
   "outputs": [],
   "source": [
    "### For 6th Data ###\n",
    "t6 = data[6]\n",
    "t6 = t6.split(\"\\n\")\n",
    "t6 = [txt.split(\":\") for txt in t6 if len(txt)>0 ]\n",
    "\n",
    "d6 = {'Use Case ID' : [], 'Use Case Name' : [], 'Justification' : []}\n",
    "\n",
    "for i in range(len(t6)):\n",
    "    if i%2 == 0:\n",
    "        cID = t6[i][0]\n",
    "        cID = re.sub(r\"([0-9]+). \", \"\", cID)\n",
    "        d6['Use Case ID'].append(cID)\n",
    "\n",
    "        cName = t6[i][1]\n",
    "        d6['Use Case Name'].append(cName)\n",
    "\n",
    "    else:\n",
    "        cJust = t6[i][1]\n",
    "        d6['Justification'].append(cJust)"
   ]
  },
  {
   "cell_type": "code",
   "execution_count": 38,
   "metadata": {},
   "outputs": [],
   "source": [
    "##### Dataframe Generation #####\n",
    "all_dicts = [d0, d1, d2, d3, d4, d5, d6]\n",
    "\n",
    "frames = {}\n",
    "\n",
    "for i in range(7):\n",
    "    frames[f\"df{i}\"] = pd.DataFrame.from_dict(all_dicts[i], orient = 'index').transpose()\n",
    "    ranks = list(frames[f\"df{i}\"].index.values)\n",
    "    ranks = [i+1 for i in range(len(ranks))]\n",
    "    frames[f\"df{i}\"]['ranks'] = ranks"
   ]
  },
  {
   "cell_type": "code",
   "execution_count": 39,
   "metadata": {},
   "outputs": [],
   "source": [
    "if not os.path.exists(\"./gpt35_frames/\"):\n",
    "    os.makedirs(\"./gpt35_frames/\")\n",
    "\n",
    "\n",
    "with open(\"./gpt35_frames/frames.pkl\", \"wb\") as fp:\n",
    "    pkl.dump(frames, fp)"
   ]
  },
  {
   "cell_type": "code",
   "execution_count": null,
   "metadata": {},
   "outputs": [],
   "source": []
  }
 ],
 "metadata": {
  "kernelspec": {
   "display_name": "DHS",
   "language": "python",
   "name": "python3"
  },
  "language_info": {
   "codemirror_mode": {
    "name": "ipython",
    "version": 3
   },
   "file_extension": ".py",
   "mimetype": "text/x-python",
   "name": "python",
   "nbconvert_exporter": "python",
   "pygments_lexer": "ipython3",
   "version": "3.12.2"
  }
 },
 "nbformat": 4,
 "nbformat_minor": 2
}
